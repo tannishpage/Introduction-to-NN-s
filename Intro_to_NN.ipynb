{
 "cells": [
  {
   "cell_type": "markdown",
   "id": "bf62e0f6",
   "metadata": {},
   "source": [
    "# Introduction to Neural Networks with PyTorch"
   ]
  },
  {
   "cell_type": "markdown",
   "id": "3b2d0788",
   "metadata": {},
   "source": [
    "### Typical workflow\n",
    "Define Dataset, Dataloader -> Define Model -> Train -> Predict"
   ]
  },
  {
   "cell_type": "markdown",
   "id": "78bc7922",
   "metadata": {},
   "source": [
    "## Dataset and Dataloader"
   ]
  },
  {
   "cell_type": "code",
   "execution_count": 3,
   "id": "0cfcf771",
   "metadata": {},
   "outputs": [
    {
     "name": "stdout",
     "output_type": "stream",
     "text": [
      "Downloading http://yann.lecun.com/exdb/mnist/train-images-idx3-ubyte.gz\n",
      "Downloading http://yann.lecun.com/exdb/mnist/train-images-idx3-ubyte.gz to ./data/MNIST/raw/train-images-idx3-ubyte.gz\n"
     ]
    },
    {
     "data": {
      "application/vnd.jupyter.widget-view+json": {
       "model_id": "9f36ab04bf524e209f751d7308d4cb54",
       "version_major": 2,
       "version_minor": 0
      },
      "text/plain": [
       "  0%|          | 0/9912422 [00:00<?, ?it/s]"
      ]
     },
     "metadata": {},
     "output_type": "display_data"
    },
    {
     "name": "stdout",
     "output_type": "stream",
     "text": [
      "Extracting ./data/MNIST/raw/train-images-idx3-ubyte.gz to ./data/MNIST/raw\n",
      "\n",
      "Downloading http://yann.lecun.com/exdb/mnist/train-labels-idx1-ubyte.gz\n",
      "Downloading http://yann.lecun.com/exdb/mnist/train-labels-idx1-ubyte.gz to ./data/MNIST/raw/train-labels-idx1-ubyte.gz\n"
     ]
    },
    {
     "data": {
      "application/vnd.jupyter.widget-view+json": {
       "model_id": "d62f8eb9ec6f4072bd33bb269ed019c0",
       "version_major": 2,
       "version_minor": 0
      },
      "text/plain": [
       "  0%|          | 0/28881 [00:00<?, ?it/s]"
      ]
     },
     "metadata": {},
     "output_type": "display_data"
    },
    {
     "name": "stdout",
     "output_type": "stream",
     "text": [
      "Extracting ./data/MNIST/raw/train-labels-idx1-ubyte.gz to ./data/MNIST/raw\n",
      "\n",
      "Downloading http://yann.lecun.com/exdb/mnist/t10k-images-idx3-ubyte.gz\n",
      "Downloading http://yann.lecun.com/exdb/mnist/t10k-images-idx3-ubyte.gz to ./data/MNIST/raw/t10k-images-idx3-ubyte.gz\n"
     ]
    },
    {
     "data": {
      "application/vnd.jupyter.widget-view+json": {
       "model_id": "69ad5100ebf947b9858b037b33ce223e",
       "version_major": 2,
       "version_minor": 0
      },
      "text/plain": [
       "  0%|          | 0/1648877 [00:00<?, ?it/s]"
      ]
     },
     "metadata": {},
     "output_type": "display_data"
    },
    {
     "name": "stdout",
     "output_type": "stream",
     "text": [
      "Extracting ./data/MNIST/raw/t10k-images-idx3-ubyte.gz to ./data/MNIST/raw\n",
      "\n",
      "Downloading http://yann.lecun.com/exdb/mnist/t10k-labels-idx1-ubyte.gz\n",
      "Downloading http://yann.lecun.com/exdb/mnist/t10k-labels-idx1-ubyte.gz to ./data/MNIST/raw/t10k-labels-idx1-ubyte.gz\n"
     ]
    },
    {
     "data": {
      "application/vnd.jupyter.widget-view+json": {
       "model_id": "74c0e6b63af64ddbbd42fdc0bde55d8a",
       "version_major": 2,
       "version_minor": 0
      },
      "text/plain": [
       "  0%|          | 0/4542 [00:00<?, ?it/s]"
      ]
     },
     "metadata": {},
     "output_type": "display_data"
    },
    {
     "name": "stdout",
     "output_type": "stream",
     "text": [
      "Extracting ./data/MNIST/raw/t10k-labels-idx1-ubyte.gz to ./data/MNIST/raw\n",
      "\n"
     ]
    },
    {
     "name": "stderr",
     "output_type": "stream",
     "text": [
      "/home/aryaman/miniconda3/envs/fastai/lib/python3.8/site-packages/torchvision/datasets/mnist.py:498: UserWarning: The given NumPy array is not writeable, and PyTorch does not support non-writeable tensors. This means you can write to the underlying (supposedly non-writeable) NumPy array using the tensor. You may want to copy the array to protect its data or make it writeable before converting it to a tensor. This type of warning will be suppressed for the rest of this program. (Triggered internally at  /opt/conda/conda-bld/pytorch_1623448216815/work/torch/csrc/utils/tensor_numpy.cpp:180.)\n",
      "  return torch.from_numpy(parsed.astype(m[2], copy=False)).view(*s)\n"
     ]
    }
   ],
   "source": [
    "import torch\n",
    "from torchvision import datasets\n",
    "import torchvision.transforms as tf\n",
    "\n",
    "train_dataset = datasets.MNIST('./data', train=True, download=True, transform=tf.ToTensor())\n",
    "test_dataset = datasets.MNIST('./data', train=False, download=True, transform=tf.ToTensor())"
   ]
  },
  {
   "cell_type": "markdown",
   "id": "fbd66fa8",
   "metadata": {},
   "source": [
    "#### Dataset stores the samples and their corresponding labels while DataLoader wraps an iterable around the dataset\n",
    "\n",
    "- Batch size = number of datasamples propogated before parameters are updated"
   ]
  },
  {
   "cell_type": "code",
   "execution_count": 47,
   "id": "adbafc48",
   "metadata": {},
   "outputs": [],
   "source": [
    "from torch.utils.data import DataLoader\n",
    "\n",
    "train_dl = DataLoader(train_dataset, batch_size=64, shuffle=True)\n",
    "test_dl = DataLoader(test_dataset, batch_size=64, shuffle=True)"
   ]
  },
  {
   "cell_type": "code",
   "execution_count": 22,
   "id": "d5372f52",
   "metadata": {},
   "outputs": [
    {
     "name": "stdout",
     "output_type": "stream",
     "text": [
      "torch.Size([1, 1, 28, 28]) torch.Size([1])\n"
     ]
    }
   ],
   "source": [
    "# Using the dataloader\n",
    "\n",
    "loader = enumerate(train_dl)\n",
    "batch, (x,y) = next(loader)\n",
    "print(x.shape, y.shape)"
   ]
  },
  {
   "cell_type": "code",
   "execution_count": 21,
   "id": "f4c498b3",
   "metadata": {},
   "outputs": [
    {
     "data": {
      "image/png": "[encoded data removed]",
      "text/plain": [
       "<Figure size 432x288 with 1 Axes>"
      ]
     },
     "metadata": {
      "needs_background": "light"
     },
     "output_type": "display_data"
    },
    {
     "name": "stdout",
     "output_type": "stream",
     "text": [
      "tensor([0])\n"
     ]
    }
   ],
   "source": [
    "import matplotlib.pyplot as plt\n",
    "plt.imshow(x[0][0], cmap='gray')\n",
    "plt.show()\n",
    "print(y)"
   ]
  },
  {
   "cell_type": "markdown",
   "id": "91847048",
   "metadata": {},
   "source": [
    "### Model (MLP)\n",
    "- Model does not return probabilities in this case"
   ]
  },
  {
   "cell_type": "code",
   "execution_count": 26,
   "id": "913e74a3",
   "metadata": {},
   "outputs": [],
   "source": [
    "import torch.nn as nn\n",
    "\n",
    "class MLP(nn.Module):\n",
    "    def __init__(self):\n",
    "        super(MLP, self).__init__()\n",
    "        self.fc1 = nn.Linear(28*28, 512)\n",
    "        self.relu = nn.ReLU()\n",
    "        self.fc2 = nn.Linear(512, 1024)\n",
    "        self.fc3 = nn.Linear(1024, 10)\n",
    "        self.flatten = nn.Flatten()\n",
    "        \n",
    "    def forward(self, x):\n",
    "        x = self.flatten(x)\n",
    "        x = self.fc1(x)\n",
    "        x = self.relu(x)\n",
    "        x = self.fc2(x)\n",
    "        x = self.relu(x)\n",
    "        x = self.fc3(x)\n",
    "        x = self.relu(x)\n",
    "        return x"
   ]
  },
  {
   "cell_type": "code",
   "execution_count": 38,
   "id": "a05f88bd",
   "metadata": {},
   "outputs": [
    {
     "name": "stdout",
     "output_type": "stream",
     "text": [
      "torch.Size([1, 10]) tensor([[0.0000, 0.0000, 0.0000, 0.1040, 0.0000, 0.0000, 0.0000, 0.0487, 0.0000,\n",
      "         0.0000]])\n",
      "tensor(3)\n"
     ]
    }
   ],
   "source": [
    "# Looking at models outputs using a random input tensor\n",
    "def test():\n",
    "    model = MLP()\n",
    "    x = torch.randn(1, 1, 28, 28)\n",
    "    with torch.no_grad():\n",
    "        y = model(x)\n",
    "    print(y.shape, y)\n",
    "    \n",
    "    # evaluating probabilites\n",
    "    prob = torch.nn.functional.softmax(y, dim=1)\n",
    "    print(torch.argmax(prob))\n",
    "    \n",
    "test()"
   ]
  },
  {
   "cell_type": "markdown",
   "id": "1ce84575",
   "metadata": {},
   "source": [
    "## Training the model\n",
    "\n",
    "#### Hyperparameters\n",
    "- adjustable params that you control optimisation process\n",
    "\n",
    "- Epochs = number of times to iterate over dataset\n",
    "- Learning Rate= how much to update the model paramters at each epoch"
   ]
  },
  {
   "cell_type": "code",
   "execution_count": 52,
   "id": "fc1dbb69",
   "metadata": {},
   "outputs": [],
   "source": [
    "LR = 1e-3\n",
    "EPOCHS = 20\n",
    "loss_fn = nn.CrossEntropyLoss()\n",
    "model = MLP()\n",
    "optimizer = optimizer = torch.optim.Adam(model.parameters(), lr=LR)\n",
    "DEVICE = 'cuda'"
   ]
  },
  {
   "cell_type": "code",
   "execution_count": 70,
   "id": "b92b5d8d",
   "metadata": {},
   "outputs": [],
   "source": [
    "def train_loop(dataloader, model, loss_fn, optimizer):\n",
    "    size = len(dataloader.dataset)\n",
    "    for batch, (X, y) in enumerate(dataloader):\n",
    "        X = X.to(device=DEVICE)\n",
    "        y = y.to(device=DEVICE)\n",
    "        #compute prediction and loss\n",
    "        pred = model(X)\n",
    "        loss = loss_fn(pred, y)\n",
    "        \n",
    "        # backpropogation\n",
    "        optimizer.zero_grad()\n",
    "        loss.backward()\n",
    "        optimizer.step()\n",
    "        \n",
    "        if batch%200 ==0:\n",
    "            loss, current = loss.item(), batch*len(X)\n",
    "            print(f\"loss: {loss:>7f}  [{current:>5d}/{size:>5d}]\")\n",
    "            \n",
    "def test_loop(dataloader, model, loss_fn):\n",
    "    size = len(dataloader.dataset)\n",
    "    num_batches = len(dataloader)\n",
    "    test_loss, correct = 0, 0\n",
    "\n",
    "    with torch.no_grad():\n",
    "        for X, y in dataloader:\n",
    "            X = X.to(device=DEVICE)\n",
    "            y = y.to(device=DEVICE)\n",
    "            \n",
    "            pred = model(X)\n",
    "            test_loss += loss_fn(pred, y).item()\n",
    "            correct += (pred.argmax(1) == y).type(torch.float).sum().item()\n",
    "\n",
    "    test_loss /= num_batches\n",
    "    correct /= size\n",
    "    print(f\"Test Error: \\n Accuracy: {(100*correct):>0.1f}%, Avg loss: {test_loss:>8f} \\n\")"
   ]
  },
  {
   "cell_type": "code",
   "execution_count": 71,
   "id": "17db5cf1",
   "metadata": {},
   "outputs": [
    {
     "name": "stdout",
     "output_type": "stream",
     "text": [
      "Epoch 1\n",
      " ++++++++++++++++++++++++++++++++++++++++++++++++\n",
      "loss: 0.582555  [    0/60000]\n",
      "loss: 0.343390  [12800/60000]\n",
      "loss: 0.308387  [25600/60000]\n",
      "loss: 0.565532  [38400/60000]\n",
      "loss: 0.270010  [51200/60000]\n",
      "Test Error: \n",
      " Accuracy: 86.4%, Avg loss: 0.341385 \n",
      "\n",
      "Done!\n"
     ]
    }
   ],
   "source": [
    "model = model.to(device=DEVICE)\n",
    "\n",
    "for t in range(EPOCHS):\n",
    "    print(f\"Epoch {t+1}\\n ++++++++++++++++++++++++++++++++++++++++++++++++\")\n",
    "    train_loop(train_dl, model, loss_fn, optimizer)\n",
    "    test_loop(test_dl, model, loss_fn)\n",
    "print(\"Done!\")"
   ]
  },
  {
   "cell_type": "markdown",
   "id": "eb01749f",
   "metadata": {},
   "source": [
    "## Predicting classes\n",
    "- Using our trained model to predict "
   ]
  },
  {
   "cell_type": "code",
   "execution_count": 72,
   "id": "5e05b977",
   "metadata": {},
   "outputs": [],
   "source": [
    "from PIL import Image\n",
    "\n",
    "image = Image.open('./topredict.jpeg').convert(\"L\")\n",
    "image.show()"
   ]
  },
  {
   "cell_type": "code",
   "execution_count": 73,
   "id": "b06efdab",
   "metadata": {},
   "outputs": [
    {
     "data": {
      "text/plain": [
       "torch.Size([1, 28, 28])"
      ]
     },
     "execution_count": 73,
     "metadata": {},
     "output_type": "execute_result"
    }
   ],
   "source": [
    "# https://pytorch.org/vision/stable/transforms.html\n",
    "transform = tf.Compose([\n",
    "    tf.ToTensor(),\n",
    "    tf.Resize((28,28))\n",
    "])\n",
    "\n",
    "image_tensor = transform(image)\n",
    "image_tensor.shape"
   ]
  },
  {
   "cell_type": "code",
   "execution_count": 74,
   "id": "807b7e72",
   "metadata": {},
   "outputs": [
    {
     "name": "stdout",
     "output_type": "stream",
     "text": [
      "tensor(5)\n"
     ]
    }
   ],
   "source": [
    "image_tensor = image_tensor.resize(1, 1, 28, 28)\n",
    "\n",
    "pred = model(image_tensor)\n",
    "    \n",
    "print(torch.argmax(pred))"
   ]
  }
 ],
 "metadata": {
  "kernelspec": {
   "display_name": "Python 3 (ipykernel)",
   "language": "python",
   "name": "python3"
  },
  "language_info": {
   "codemirror_mode": {
    "name": "ipython",
    "version": 3
   },
   "file_extension": ".py",
   "mimetype": "text/x-python",
   "name": "python",
   "nbconvert_exporter": "python",
   "pygments_lexer": "ipython3",
   "version": "3.8.2"
  }
 },
 "nbformat": 4,
 "nbformat_minor": 5
}
